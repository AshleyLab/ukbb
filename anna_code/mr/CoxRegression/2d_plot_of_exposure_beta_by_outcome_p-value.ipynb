{
 "cells": [
  {
   "cell_type": "code",
   "execution_count": 2,
   "metadata": {},
   "outputs": [],
   "source": [
    "rm(list=ls())\n",
    "library(ggplot2)"
   ]
  },
  {
   "cell_type": "code",
   "execution_count": 3,
   "metadata": {},
   "outputs": [],
   "source": [
    "data=read.table(\"gwas.summary\",header=TRUE,sep='\\t')"
   ]
  },
  {
   "cell_type": "code",
   "execution_count": 4,
   "metadata": {},
   "outputs": [],
   "source": [
    "exposures=c(DurationModerateActivity     JobInvolvesMainlyWalkingOrStanding    OverallAccelerationAverage  X12am_9am  X6pm_12am\n",
    "DurationOfWalks              JobInvolvesManualOrPhysicalWork       Transition10                X12pm_6pm  X9mg\n",
    "DurationVigorousActivity     NumberDaysWalked10Minutes             Transition25                X5am_9pm   X9pm_5am\n",
    "DurationWalkingForPleasure   NumberOfDaysModeratePhysicalActivity  UsualWalkingPace            X5pm_12am\n",
    "FrequencyWalkingForPleasure  NumberOfDaysVigorousPhysicalActivity  X12am_6am                   X6am_12pm\n",
    ")"
   ]
  },
  {
   "cell_type": "code",
   "execution_count": null,
   "metadata": {},
   "outputs": [],
   "source": [
    "outcomes=c() "
   ]
  }
 ],
 "metadata": {
  "kernelspec": {
   "display_name": "R",
   "language": "R",
   "name": "ir"
  },
  "language_info": {
   "codemirror_mode": "r",
   "file_extension": ".r",
   "mimetype": "text/x-r-source",
   "name": "R",
   "pygments_lexer": "r",
   "version": "3.4.0"
  }
 },
 "nbformat": 4,
 "nbformat_minor": 2
}
