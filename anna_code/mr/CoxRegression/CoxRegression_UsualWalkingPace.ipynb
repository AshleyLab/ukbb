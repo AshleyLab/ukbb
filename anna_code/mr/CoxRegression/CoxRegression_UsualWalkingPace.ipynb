{
 "cells": [
  {
   "cell_type": "code",
   "execution_count": 1,
   "metadata": {},
   "outputs": [
    {
     "name": "stderr",
     "output_type": "stream",
     "text": [
      "\n",
      "Attaching package: ‘dplyr’\n",
      "\n",
      "The following objects are masked from ‘package:stats’:\n",
      "\n",
      "    filter, lag\n",
      "\n",
      "The following objects are masked from ‘package:base’:\n",
      "\n",
      "    intersect, setdiff, setequal, union\n",
      "\n"
     ]
    }
   ],
   "source": [
    "rm(list=ls())\n",
    "library(dplyr)\n",
    "library(tidyr)"
   ]
  },
  {
   "cell_type": "code",
   "execution_count": 2,
   "metadata": {},
   "outputs": [],
   "source": [
    "exposure_name=\"UsualWalkingPace\"\n",
    "outcome_name=\"CvdStatus\""
   ]
  },
  {
   "cell_type": "code",
   "execution_count": 3,
   "metadata": {},
   "outputs": [],
   "source": [
    "#load the covariates \n",
    "covar=read.table(\"mr_covariates.euro.txt\",header=TRUE,sep='\\t',stringsAsFactors = FALSE)\n",
    "covar$IID=NULL\n",
    "covar$Sex=factor(covar$Sex)\n",
    "covar$f.batch=NULL\n",
    "\n",
    "\n",
    "icd=read.table(\"primary_cause_of_death_collapsed.txt\",header=TRUE,sep='\\t',stringsAsFactors = FALSE)\n",
    "icd$IID=NULL\n",
    "icd$UnderlyingPrimaryCauseOfDeath=factor(icd$UnderlyingPrimaryCauseOfDeath)\n",
    "#add in column for major cause of death \n",
    "data=inner_join(covar,icd,by=\"FID\")\n"
   ]
  },
  {
   "cell_type": "code",
   "execution_count": 4,
   "metadata": {},
   "outputs": [],
   "source": [
    "# add in age^2 as a covariate \n",
    "ages=read.table(\"ages_recruitment_death.txt\",header=TRUE,sep='\\t',stringsAsFactors = FALSE)\n",
    "ages$AgeSquared=ages$AgeAtRecruitment^2"
   ]
  },
  {
   "cell_type": "code",
   "execution_count": 5,
   "metadata": {},
   "outputs": [],
   "source": [
    "#calculate time to death\n",
    "ages$time_to_death=ages$AgeAtDeath-ages$AgeAtRecruitment\n",
    "\n",
    "#or, other outcome: \n",
    "#outcome_mr=read.table(\"mr_outcome.txt\",header=TRUE,row.names=1,sep='\\t')\n",
    "#outcome_v=factor(as.matrix(subset(outcome_mr,select=c(outcome_name))))\n",
    "data=inner_join(data,ages,by=\"FID\")\n"
   ]
  },
  {
   "cell_type": "code",
   "execution_count": 6,
   "metadata": {},
   "outputs": [],
   "source": [
    "#read in the PLINK results for the exposure variable \n",
    "snps=read.table(paste(\"mr_snp_subsets/\",exposure_name,sep=\"\"),header=TRUE,sep='\\t')\n",
    "snps[snps==-1]=NA\n",
    "names(snps)[1]=\"FID\""
   ]
  },
  {
   "cell_type": "code",
   "execution_count": 8,
   "metadata": {},
   "outputs": [],
   "source": [
    "#get exposure values \n",
    "exposure_mr=read.table(\"mr_exposures.txt\",header=TRUE,sep='\\t')\n",
    "names(exposure_mr)[1]=\"FID\"\n",
    "exposure_mr=subset(exposure_mr,select=c(\"FID\",\"UsualWalkingPace.BriskVsOther\",\"UsualWalkingPace.SlowVsOther\"))\n",
    "exposure_mr$UsualWalkingPace.BriskVsOther=factor(exposure_mr$UsualWalkingPace.BriskVsOther)\n",
    "exposure_mr$UsualWalkingPace.SlowVsOther=factor(exposure_mr$UsualWalkingPace.SlowVsOther)"
   ]
  },
  {
   "cell_type": "code",
   "execution_count": 9,
   "metadata": {},
   "outputs": [],
   "source": [
    "data=inner_join(data,snps,by=\"FID\")"
   ]
  },
  {
   "cell_type": "code",
   "execution_count": 10,
   "metadata": {},
   "outputs": [],
   "source": [
    "data=inner_join(data,exposure_mr,by=\"FID\")"
   ]
  },
  {
   "cell_type": "code",
   "execution_count": 11,
   "metadata": {},
   "outputs": [],
   "source": [
    "#Clean up (remove fields not needed for Cox regression)\n",
    "data$IID=NULL \n",
    "data$YearOfBirth=NULL\n",
    "data$AgeAtDeath=NULL\n",
    "data$FID=NULL"
   ]
  },
  {
   "cell_type": "code",
   "execution_count": 12,
   "metadata": {},
   "outputs": [],
   "source": [
    "#censor the subjects who are still alive \n",
    "data$status=1 \n",
    "data$status[is.na(data$time_to_death)]=0"
   ]
  },
  {
   "cell_type": "code",
   "execution_count": 15,
   "metadata": {},
   "outputs": [
    {
     "data": {
      "text/html": [
       "<table>\n",
       "<thead><tr><th scope=col>Sex</th><th scope=col>PC1</th><th scope=col>PC2</th><th scope=col>PC3</th><th scope=col>PC4</th><th scope=col>PC5</th><th scope=col>PC6</th><th scope=col>PC7</th><th scope=col>PC8</th><th scope=col>PC9</th><th scope=col>⋯</th><th scope=col>AgeAtRecruitment</th><th scope=col>AgeSquared</th><th scope=col>time_to_death</th><th scope=col>rs570777080</th><th scope=col>rs554771783</th><th scope=col>rs188521060</th><th scope=col>rs2775421</th><th scope=col>UsualWalkingPace.BriskVsOther</th><th scope=col>UsualWalkingPace.SlowVsOther</th><th scope=col>status</th></tr></thead>\n",
       "<tbody>\n",
       "\t<tr><td>0           </td><td> 0.000098641</td><td> 8.37416e-05</td><td>-0.00117254 </td><td> 0.000546942</td><td> 0.001284070</td><td> 0.002849690</td><td> 0.000991806</td><td> 0.001610640</td><td> 2.94963e-04</td><td>⋯           </td><td>70          </td><td>4900        </td><td>NA          </td><td> 0          </td><td>0           </td><td>0           </td><td> 1          </td><td>1           </td><td>1           </td><td>0           </td></tr>\n",
       "\t<tr><td>1           </td><td> 0.000165284</td><td>-1.74393e-03</td><td>-0.00128201 </td><td>-0.001167590</td><td> 0.000114421</td><td>-0.000426776</td><td>-0.000514346</td><td> 0.000754035</td><td> 7.04738e-04</td><td>⋯           </td><td>43          </td><td>1849        </td><td>NA          </td><td> 1          </td><td>0           </td><td>0           </td><td>NA          </td><td>1           </td><td>1           </td><td>0           </td></tr>\n",
       "\t<tr><td>1           </td><td>-0.001150320</td><td> 2.59310e-03</td><td>-0.00102302 </td><td> 0.001088750</td><td> 0.000652283</td><td> 0.001128640</td><td> 0.000320505</td><td> 0.001577040</td><td>-3.62959e-03</td><td>⋯           </td><td>53          </td><td>2809        </td><td>NA          </td><td> 1          </td><td>0           </td><td>0           </td><td>NA          </td><td>1           </td><td>2           </td><td>0           </td></tr>\n",
       "\t<tr><td>1           </td><td>-0.000301001</td><td>-4.84239e-04</td><td> 0.00105944 </td><td>-0.002191060</td><td> 0.001082250</td><td>-0.001773900</td><td>-0.001607440</td><td>-0.001415470</td><td> 9.47541e-04</td><td>⋯           </td><td>58          </td><td>3364        </td><td>NA          </td><td> 2          </td><td>0           </td><td>0           </td><td>NA          </td><td>2           </td><td>1           </td><td>0           </td></tr>\n",
       "\t<tr><td>1           </td><td>-0.001632870</td><td>-4.77821e-04</td><td> 0.00103906 </td><td> 0.001274720</td><td>-0.002076400</td><td>-0.001697290</td><td> 0.001353240</td><td>-0.001149060</td><td> 2.41438e-05</td><td>⋯           </td><td>63          </td><td>3969        </td><td>NA          </td><td>NA          </td><td>0           </td><td>0           </td><td>NA          </td><td>1           </td><td>2           </td><td>0           </td></tr>\n",
       "\t<tr><td>0           </td><td> 0.002497990</td><td>-2.32333e-04</td><td>-0.00137302 </td><td> 0.000604198</td><td>-0.001654240</td><td>-0.000346408</td><td> 0.001155690</td><td>-0.001111370</td><td> 1.74310e-03</td><td>⋯           </td><td>62          </td><td>3844        </td><td>NA          </td><td> 0          </td><td>0           </td><td>0           </td><td> 1          </td><td>2           </td><td>1           </td><td>0           </td></tr>\n",
       "</tbody>\n",
       "</table>\n"
      ],
      "text/latex": [
       "\\begin{tabular}{r|llllllllllllllllllllll}\n",
       " Sex & PC1 & PC2 & PC3 & PC4 & PC5 & PC6 & PC7 & PC8 & PC9 & ⋯ & AgeAtRecruitment & AgeSquared & time\\_to\\_death & rs570777080 & rs554771783 & rs188521060 & rs2775421 & UsualWalkingPace.BriskVsOther & UsualWalkingPace.SlowVsOther & status\\\\\n",
       "\\hline\n",
       "\t 0            &  0.000098641 &  8.37416e-05 & -0.00117254  &  0.000546942 &  0.001284070 &  0.002849690 &  0.000991806 &  0.001610640 &  2.94963e-04 & ⋯            & 70           & 4900         & NA           &  0           & 0            & 0            &  1           & 1            & 1            & 0           \\\\\n",
       "\t 1            &  0.000165284 & -1.74393e-03 & -0.00128201  & -0.001167590 &  0.000114421 & -0.000426776 & -0.000514346 &  0.000754035 &  7.04738e-04 & ⋯            & 43           & 1849         & NA           &  1           & 0            & 0            & NA           & 1            & 1            & 0           \\\\\n",
       "\t 1            & -0.001150320 &  2.59310e-03 & -0.00102302  &  0.001088750 &  0.000652283 &  0.001128640 &  0.000320505 &  0.001577040 & -3.62959e-03 & ⋯            & 53           & 2809         & NA           &  1           & 0            & 0            & NA           & 1            & 2            & 0           \\\\\n",
       "\t 1            & -0.000301001 & -4.84239e-04 &  0.00105944  & -0.002191060 &  0.001082250 & -0.001773900 & -0.001607440 & -0.001415470 &  9.47541e-04 & ⋯            & 58           & 3364         & NA           &  2           & 0            & 0            & NA           & 2            & 1            & 0           \\\\\n",
       "\t 1            & -0.001632870 & -4.77821e-04 &  0.00103906  &  0.001274720 & -0.002076400 & -0.001697290 &  0.001353240 & -0.001149060 &  2.41438e-05 & ⋯            & 63           & 3969         & NA           & NA           & 0            & 0            & NA           & 1            & 2            & 0           \\\\\n",
       "\t 0            &  0.002497990 & -2.32333e-04 & -0.00137302  &  0.000604198 & -0.001654240 & -0.000346408 &  0.001155690 & -0.001111370 &  1.74310e-03 & ⋯            & 62           & 3844         & NA           &  0           & 0            & 0            &  1           & 2            & 1            & 0           \\\\\n",
       "\\end{tabular}\n"
      ],
      "text/markdown": [
       "\n",
       "Sex | PC1 | PC2 | PC3 | PC4 | PC5 | PC6 | PC7 | PC8 | PC9 | ⋯ | AgeAtRecruitment | AgeSquared | time_to_death | rs570777080 | rs554771783 | rs188521060 | rs2775421 | UsualWalkingPace.BriskVsOther | UsualWalkingPace.SlowVsOther | status | \n",
       "|---|---|---|---|---|---|\n",
       "| 0            |  0.000098641 |  8.37416e-05 | -0.00117254  |  0.000546942 |  0.001284070 |  0.002849690 |  0.000991806 |  0.001610640 |  2.94963e-04 | ⋯            | 70           | 4900         | NA           |  0           | 0            | 0            |  1           | 1            | 1            | 0            | \n",
       "| 1            |  0.000165284 | -1.74393e-03 | -0.00128201  | -0.001167590 |  0.000114421 | -0.000426776 | -0.000514346 |  0.000754035 |  7.04738e-04 | ⋯            | 43           | 1849         | NA           |  1           | 0            | 0            | NA           | 1            | 1            | 0            | \n",
       "| 1            | -0.001150320 |  2.59310e-03 | -0.00102302  |  0.001088750 |  0.000652283 |  0.001128640 |  0.000320505 |  0.001577040 | -3.62959e-03 | ⋯            | 53           | 2809         | NA           |  1           | 0            | 0            | NA           | 1            | 2            | 0            | \n",
       "| 1            | -0.000301001 | -4.84239e-04 |  0.00105944  | -0.002191060 |  0.001082250 | -0.001773900 | -0.001607440 | -0.001415470 |  9.47541e-04 | ⋯            | 58           | 3364         | NA           |  2           | 0            | 0            | NA           | 2            | 1            | 0            | \n",
       "| 1            | -0.001632870 | -4.77821e-04 |  0.00103906  |  0.001274720 | -0.002076400 | -0.001697290 |  0.001353240 | -0.001149060 |  2.41438e-05 | ⋯            | 63           | 3969         | NA           | NA           | 0            | 0            | NA           | 1            | 2            | 0            | \n",
       "| 0            |  0.002497990 | -2.32333e-04 | -0.00137302  |  0.000604198 | -0.001654240 | -0.000346408 |  0.001155690 | -0.001111370 |  1.74310e-03 | ⋯            | 62           | 3844         | NA           |  0           | 0            | 0            |  1           | 2            | 1            | 0            | \n",
       "\n",
       "\n"
      ],
      "text/plain": [
       "  Sex PC1          PC2          PC3         PC4          PC5         \n",
       "1 0    0.000098641  8.37416e-05 -0.00117254  0.000546942  0.001284070\n",
       "2 1    0.000165284 -1.74393e-03 -0.00128201 -0.001167590  0.000114421\n",
       "3 1   -0.001150320  2.59310e-03 -0.00102302  0.001088750  0.000652283\n",
       "4 1   -0.000301001 -4.84239e-04  0.00105944 -0.002191060  0.001082250\n",
       "5 1   -0.001632870 -4.77821e-04  0.00103906  0.001274720 -0.002076400\n",
       "6 0    0.002497990 -2.32333e-04 -0.00137302  0.000604198 -0.001654240\n",
       "  PC6          PC7          PC8          PC9          ⋯ AgeAtRecruitment\n",
       "1  0.002849690  0.000991806  0.001610640  2.94963e-04 ⋯ 70              \n",
       "2 -0.000426776 -0.000514346  0.000754035  7.04738e-04 ⋯ 43              \n",
       "3  0.001128640  0.000320505  0.001577040 -3.62959e-03 ⋯ 53              \n",
       "4 -0.001773900 -0.001607440 -0.001415470  9.47541e-04 ⋯ 58              \n",
       "5 -0.001697290  0.001353240 -0.001149060  2.41438e-05 ⋯ 63              \n",
       "6 -0.000346408  0.001155690 -0.001111370  1.74310e-03 ⋯ 62              \n",
       "  AgeSquared time_to_death rs570777080 rs554771783 rs188521060 rs2775421\n",
       "1 4900       NA             0          0           0            1       \n",
       "2 1849       NA             1          0           0           NA       \n",
       "3 2809       NA             1          0           0           NA       \n",
       "4 3364       NA             2          0           0           NA       \n",
       "5 3969       NA            NA          0           0           NA       \n",
       "6 3844       NA             0          0           0            1       \n",
       "  UsualWalkingPace.BriskVsOther UsualWalkingPace.SlowVsOther status\n",
       "1 1                             1                            0     \n",
       "2 1                             1                            0     \n",
       "3 1                             2                            0     \n",
       "4 2                             1                            0     \n",
       "5 1                             2                            0     \n",
       "6 2                             1                            0     "
      ]
     },
     "metadata": {},
     "output_type": "display_data"
    }
   ],
   "source": [
    "head(data)"
   ]
  },
  {
   "cell_type": "code",
   "execution_count": 14,
   "metadata": {},
   "outputs": [],
   "source": [
    "#Perform multivariate Cox Regression\n",
    "\n",
    "#load the necessary packages \n",
    "library(survival)\n",
    "library(ranger)\n",
    "library(ggplot2)\n",
    "library(ggfortify)\n"
   ]
  },
  {
   "cell_type": "markdown",
   "metadata": {},
   "source": [
    "## Brisk Vs Other"
   ]
  },
  {
   "cell_type": "code",
   "execution_count": 16,
   "metadata": {},
   "outputs": [],
   "source": [
    "#fit Cox proportional hazards model that makes use of all covariates in dataset \n",
    "cox <- coxph(Surv(time_to_death, status) ~ Sex+\n",
    "             PC1+\n",
    "             PC2+\n",
    "             PC3+\n",
    "             PC4+\n",
    "             PC5+\n",
    "             PC6+\n",
    "             PC7+\n",
    "             PC8+\n",
    "             PC9+\n",
    "             PC10+\n",
    "             UnderlyingPrimaryCauseOfDeath+\n",
    "             AgeAtRecruitment+\n",
    "             AgeSquared+\n",
    "             UsualWalkingPace.BriskVsOther,\n",
    "             data = data)\n"
   ]
  },
  {
   "cell_type": "code",
   "execution_count": 17,
   "metadata": {},
   "outputs": [
    {
     "data": {
      "text/plain": [
       "Call:\n",
       "coxph(formula = Surv(time_to_death, status) ~ Sex + PC1 + PC2 + \n",
       "    PC3 + PC4 + PC5 + PC6 + PC7 + PC8 + PC9 + PC10 + UnderlyingPrimaryCauseOfDeath + \n",
       "    AgeAtRecruitment + AgeSquared + UsualWalkingPace.BriskVsOther, \n",
       "    data = data)\n",
       "\n",
       "  n= 12351, number of events= 12351 \n",
       "   (425988 observations deleted due to missingness)\n",
       "\n",
       "                                     coef  exp(coef)   se(coef)      z Pr(>|z|)\n",
       "Sex1                            3.623e-02  1.037e+00  1.878e-02  1.930 0.053664\n",
       "PC1                             6.787e-01  1.971e+00  6.129e+00  0.111 0.911825\n",
       "PC2                             4.085e-01  1.505e+00  6.109e+00  0.067 0.946686\n",
       "PC3                             2.917e+00  1.848e+01  6.171e+00  0.473 0.636483\n",
       "PC4                             1.389e+01  1.077e+06  6.151e+00  2.258 0.023948\n",
       "PC5                             1.094e+01  5.648e+04  6.067e+00  1.803 0.071315\n",
       "PC6                             3.562e+00  3.523e+01  6.107e+00  0.583 0.559748\n",
       "PC7                            -5.995e+00  2.492e-03  6.114e+00 -0.981 0.326825\n",
       "PC8                             6.795e+00  8.937e+02  6.169e+00  1.101 0.270679\n",
       "PC9                            -3.129e+00  4.377e-02  6.140e+00 -0.510 0.610323\n",
       "PC10                            1.180e+01  1.329e+05  6.108e+00  1.932 0.053408\n",
       "UnderlyingPrimaryCauseOfDeathB -1.276e-01  8.802e-01  2.325e-01 -0.549 0.583080\n",
       "UnderlyingPrimaryCauseOfDeathC -1.295e-01  8.785e-01  1.112e-01 -1.165 0.243956\n",
       "UnderlyingPrimaryCauseOfDeathD -2.620e-01  7.695e-01  1.464e-01 -1.790 0.073416\n",
       "UnderlyingPrimaryCauseOfDeathE -2.334e-01  7.918e-01  1.518e-01 -1.537 0.124271\n",
       "UnderlyingPrimaryCauseOfDeathF -5.710e-01  5.650e-01  1.489e-01 -3.835 0.000125\n",
       "UnderlyingPrimaryCauseOfDeathG -4.112e-01  6.629e-01  1.224e-01 -3.359 0.000781\n",
       "UnderlyingPrimaryCauseOfDeathI -1.043e-01  9.010e-01  1.124e-01 -0.928 0.353430\n",
       "UnderlyingPrimaryCauseOfDeathJ -3.175e-01  7.280e-01  1.171e-01 -2.712 0.006692\n",
       "UnderlyingPrimaryCauseOfDeathK -1.489e-01  8.616e-01  1.197e-01 -1.244 0.213556\n",
       "UnderlyingPrimaryCauseOfDeathL -6.059e-01  5.456e-01  3.219e-01 -1.883 0.059768\n",
       "UnderlyingPrimaryCauseOfDeathM -5.302e-02  9.484e-01  1.635e-01 -0.324 0.745754\n",
       "UnderlyingPrimaryCauseOfDeathN -3.619e-01  6.964e-01  1.726e-01 -2.097 0.036036\n",
       "UnderlyingPrimaryCauseOfDeathQ  8.152e-02  1.085e+00  2.497e-01  0.326 0.744056\n",
       "UnderlyingPrimaryCauseOfDeathR -9.132e-02  9.127e-01  1.673e-01 -0.546 0.585252\n",
       "UnderlyingPrimaryCauseOfDeathU  2.281e-01  1.256e+00  2.993e-01  0.762 0.446033\n",
       "UnderlyingPrimaryCauseOfDeathV  2.815e-01  1.325e+00  1.792e-01  1.571 0.116220\n",
       "UnderlyingPrimaryCauseOfDeathW -5.438e-02  9.471e-01  1.482e-01 -0.367 0.713646\n",
       "UnderlyingPrimaryCauseOfDeathX  8.570e-02  1.089e+00  1.312e-01  0.653 0.513589\n",
       "UnderlyingPrimaryCauseOfDeathY -1.040e-01  9.012e-01  1.746e-01 -0.595 0.551517\n",
       "AgeAtRecruitment               -4.870e-02  9.525e-01  2.046e-02 -2.380 0.017301\n",
       "AgeSquared                      4.207e-04  1.000e+00  1.759e-04  2.391 0.016784\n",
       "UsualWalkingPace.BriskVsOther2 -5.001e-02  9.512e-01  2.109e-02 -2.372 0.017711\n",
       "                                  \n",
       "Sex1                           .  \n",
       "PC1                               \n",
       "PC2                               \n",
       "PC3                               \n",
       "PC4                            *  \n",
       "PC5                            .  \n",
       "PC6                               \n",
       "PC7                               \n",
       "PC8                               \n",
       "PC9                               \n",
       "PC10                           .  \n",
       "UnderlyingPrimaryCauseOfDeathB    \n",
       "UnderlyingPrimaryCauseOfDeathC    \n",
       "UnderlyingPrimaryCauseOfDeathD .  \n",
       "UnderlyingPrimaryCauseOfDeathE    \n",
       "UnderlyingPrimaryCauseOfDeathF ***\n",
       "UnderlyingPrimaryCauseOfDeathG ***\n",
       "UnderlyingPrimaryCauseOfDeathI    \n",
       "UnderlyingPrimaryCauseOfDeathJ ** \n",
       "UnderlyingPrimaryCauseOfDeathK    \n",
       "UnderlyingPrimaryCauseOfDeathL .  \n",
       "UnderlyingPrimaryCauseOfDeathM    \n",
       "UnderlyingPrimaryCauseOfDeathN *  \n",
       "UnderlyingPrimaryCauseOfDeathQ    \n",
       "UnderlyingPrimaryCauseOfDeathR    \n",
       "UnderlyingPrimaryCauseOfDeathU    \n",
       "UnderlyingPrimaryCauseOfDeathV    \n",
       "UnderlyingPrimaryCauseOfDeathW    \n",
       "UnderlyingPrimaryCauseOfDeathX    \n",
       "UnderlyingPrimaryCauseOfDeathY    \n",
       "AgeAtRecruitment               *  \n",
       "AgeSquared                     *  \n",
       "UsualWalkingPace.BriskVsOther2 *  \n",
       "---\n",
       "Signif. codes:  0 ‘***’ 0.001 ‘**’ 0.01 ‘*’ 0.05 ‘.’ 0.1 ‘ ’ 1\n",
       "\n",
       "                               exp(coef) exp(-coef) lower .95 upper .95\n",
       "Sex1                           1.037e+00  9.644e-01 9.994e-01 1.076e+00\n",
       "PC1                            1.971e+00  5.073e-01 1.195e-05 3.251e+05\n",
       "PC2                            1.505e+00  6.646e-01 9.485e-06 2.387e+05\n",
       "PC3                            1.848e+01  5.412e-02 1.032e-04 3.307e+06\n",
       "PC4                            1.077e+06  9.289e-07 6.253e+00 1.853e+11\n",
       "PC5                            5.648e+04  1.771e-05 3.869e-01 8.243e+09\n",
       "PC6                            3.523e+01  2.839e-02 2.231e-04 5.564e+06\n",
       "PC7                            2.492e-03  4.013e+02 1.558e-08 3.986e+02\n",
       "PC8                            8.937e+02  1.119e-03 5.012e-03 1.594e+08\n",
       "PC9                            4.377e-02  2.285e+01 2.601e-07 7.366e+03\n",
       "PC10                           1.329e+05  7.524e-06 8.410e-01 2.100e+10\n",
       "UnderlyingPrimaryCauseOfDeathB 8.802e-01  1.136e+00 5.581e-01 1.388e+00\n",
       "UnderlyingPrimaryCauseOfDeathC 8.785e-01  1.138e+00 7.065e-01 1.092e+00\n",
       "UnderlyingPrimaryCauseOfDeathD 7.695e-01  1.300e+00 5.776e-01 1.025e+00\n",
       "UnderlyingPrimaryCauseOfDeathE 7.918e-01  1.263e+00 5.880e-01 1.066e+00\n",
       "UnderlyingPrimaryCauseOfDeathF 5.650e-01  1.770e+00 4.220e-01 7.564e-01\n",
       "UnderlyingPrimaryCauseOfDeathG 6.629e-01  1.509e+00 5.215e-01 8.426e-01\n",
       "UnderlyingPrimaryCauseOfDeathI 9.010e-01  1.110e+00 7.229e-01 1.123e+00\n",
       "UnderlyingPrimaryCauseOfDeathJ 7.280e-01  1.374e+00 5.787e-01 9.157e-01\n",
       "UnderlyingPrimaryCauseOfDeathK 8.616e-01  1.161e+00 6.814e-01 1.090e+00\n",
       "UnderlyingPrimaryCauseOfDeathL 5.456e-01  1.833e+00 2.903e-01 1.025e+00\n",
       "UnderlyingPrimaryCauseOfDeathM 9.484e-01  1.054e+00 6.883e-01 1.307e+00\n",
       "UnderlyingPrimaryCauseOfDeathN 6.964e-01  1.436e+00 4.965e-01 9.767e-01\n",
       "UnderlyingPrimaryCauseOfDeathQ 1.085e+00  9.217e-01 6.651e-01 1.770e+00\n",
       "UnderlyingPrimaryCauseOfDeathR 9.127e-01  1.096e+00 6.575e-01 1.267e+00\n",
       "UnderlyingPrimaryCauseOfDeathU 1.256e+00  7.961e-01 6.987e-01 2.258e+00\n",
       "UnderlyingPrimaryCauseOfDeathV 1.325e+00  7.547e-01 9.327e-01 1.883e+00\n",
       "UnderlyingPrimaryCauseOfDeathW 9.471e-01  1.056e+00 7.084e-01 1.266e+00\n",
       "UnderlyingPrimaryCauseOfDeathX 1.089e+00  9.179e-01 8.425e-01 1.409e+00\n",
       "UnderlyingPrimaryCauseOfDeathY 9.012e-01  1.110e+00 6.400e-01 1.269e+00\n",
       "AgeAtRecruitment               9.525e-01  1.050e+00 9.150e-01 9.914e-01\n",
       "AgeSquared                     1.000e+00  9.996e-01 1.000e+00 1.001e+00\n",
       "UsualWalkingPace.BriskVsOther2 9.512e-01  1.051e+00 9.127e-01 9.914e-01\n",
       "\n",
       "Concordance= 0.536  (se = 0.003 )\n",
       "Rsquare= 0.011   (max possible= 1 )\n",
       "Likelihood ratio test= 134.9  on 33 df,   p=2.842e-14\n",
       "Wald test            = 130.9  on 33 df,   p=1.324e-13\n",
       "Score (logrank) test = 131.8  on 33 df,   p=9.259e-14\n"
      ]
     },
     "metadata": {},
     "output_type": "display_data"
    }
   ],
   "source": [
    "summary(cox)"
   ]
  },
  {
   "cell_type": "code",
   "execution_count": 18,
   "metadata": {},
   "outputs": [],
   "source": [
    "cox_fit <- survfit(cox)\n"
   ]
  },
  {
   "cell_type": "code",
   "execution_count": 19,
   "metadata": {
    "scrolled": true
   },
   "outputs": [
    {
     "data": {},
     "metadata": {},
     "output_type": "display_data"
    },
    {
     "data": {
      "image/png": "[encoded data removed]",
      "text/plain": [
       "plot without title"
      ]
     },
     "metadata": {},
     "output_type": "display_data"
    }
   ],
   "source": [
    "autoplot(cox_fit)\n"
   ]
  },
  {
   "cell_type": "code",
   "execution_count": 20,
   "metadata": {},
   "outputs": [],
   "source": [
    "aa_fit <- aareg(Surv(time_to_death, status) ~ Sex+\n",
    "             PC1+\n",
    "             PC2+\n",
    "             PC3+\n",
    "             PC4+\n",
    "             PC5+\n",
    "             PC6+\n",
    "             PC7+\n",
    "             PC8+\n",
    "             PC9+\n",
    "             PC10+\n",
    "             UnderlyingPrimaryCauseOfDeath+\n",
    "             AgeAtRecruitment+\n",
    "             AgeSquared+\n",
    "             UsualWalkingPace.BriskVsOther,\n",
    "             data = data)\n"
   ]
  },
  {
   "cell_type": "code",
   "execution_count": 21,
   "metadata": {},
   "outputs": [
    {
     "name": "stderr",
     "output_type": "stream",
     "text": [
      "Warning message:\n",
      "“Removed 2014 rows containing missing values (geom_path).”"
     ]
    },
    {
     "data": {},
     "metadata": {},
     "output_type": "display_data"
    },
    {
     "data": {
      "text/html": [
       "<strong>png:</strong> 2"
      ],
      "text/latex": [
       "\\textbf{png:} 2"
      ],
      "text/markdown": [
       "**png:** 2"
      ],
      "text/plain": [
       "png \n",
       "  2 "
      ]
     },
     "metadata": {},
     "output_type": "display_data"
    }
   ],
   "source": [
    "png(\"aa_fit_usual_walking_pace_brisk_vs_other.png\",height=20,width=20,units = \"in\",res=300)\n",
    "autoplot(aa_fit)\n",
    "dev.off()\n"
   ]
  },
  {
   "cell_type": "markdown",
   "metadata": {},
   "source": [
    "![aa_fit](aa_fit_usual_walking_pace_brisk_vs_other.png)"
   ]
  },
  {
   "cell_type": "code",
   "execution_count": 26,
   "metadata": {},
   "outputs": [],
   "source": [
    "#remove exposure value and re-run proportional hazards model \n",
    "cox2 <- coxph(Surv(time_to_death, status) ~ Sex+\n",
    "             PC1+\n",
    "             PC2+\n",
    "             PC3+\n",
    "             PC4+\n",
    "             PC5+\n",
    "             PC6+\n",
    "             PC7+\n",
    "             PC8+\n",
    "             PC9+\n",
    "             PC10+\n",
    "             UnderlyingPrimaryCauseOfDeath+\n",
    "             AgeAtRecruitment+\n",
    "             AgeSquared,\n",
    "             data = data)\n"
   ]
  },
  {
   "cell_type": "code",
   "execution_count": 27,
   "metadata": {},
   "outputs": [
    {
     "data": {
      "text/plain": [
       "Call:\n",
       "coxph(formula = Surv(time_to_death, status) ~ Sex + PC1 + PC2 + \n",
       "    PC3 + PC4 + PC5 + PC6 + PC7 + PC8 + PC9 + PC10 + UnderlyingPrimaryCauseOfDeath + \n",
       "    AgeAtRecruitment + AgeSquared, data = data)\n",
       "\n",
       "  n= 12676, number of events= 12676 \n",
       "   (425663 observations deleted due to missingness)\n",
       "\n",
       "                                     coef  exp(coef)   se(coef)      z Pr(>|z|)\n",
       "Sex1                            3.182e-02  1.032e+00  1.854e-02  1.717 0.085998\n",
       "PC1                             7.823e-01  2.187e+00  6.055e+00  0.129 0.897195\n",
       "PC2                             8.525e-01  2.345e+00  6.035e+00  0.141 0.887662\n",
       "PC3                             3.000e+00  2.008e+01  6.086e+00  0.493 0.622093\n",
       "PC4                             1.286e+01  3.860e+05  6.072e+00  2.119 0.034132\n",
       "PC5                             1.099e+01  5.937e+04  5.986e+00  1.836 0.066319\n",
       "PC6                             4.902e+00  1.346e+02  6.039e+00  0.812 0.416921\n",
       "PC7                            -7.212e+00  7.374e-04  6.029e+00 -1.196 0.231557\n",
       "PC8                             7.659e+00  2.120e+03  6.090e+00  1.258 0.208493\n",
       "PC9                            -3.984e-01  6.714e-01  6.045e+00 -0.066 0.947451\n",
       "PC10                            1.172e+01  1.233e+05  6.039e+00  1.941 0.052239\n",
       "UnderlyingPrimaryCauseOfDeathB -1.046e-01  9.007e-01  2.288e-01 -0.457 0.647732\n",
       "UnderlyingPrimaryCauseOfDeathC -1.292e-01  8.788e-01  1.111e-01 -1.163 0.244996\n",
       "UnderlyingPrimaryCauseOfDeathD -2.614e-01  7.700e-01  1.458e-01 -1.793 0.072998\n",
       "UnderlyingPrimaryCauseOfDeathE -1.783e-01  8.367e-01  1.477e-01 -1.207 0.227306\n",
       "UnderlyingPrimaryCauseOfDeathF -5.769e-01  5.616e-01  1.486e-01 -3.883 0.000103\n",
       "UnderlyingPrimaryCauseOfDeathG -4.003e-01  6.701e-01  1.212e-01 -3.303 0.000957\n",
       "UnderlyingPrimaryCauseOfDeathI -1.053e-01  9.000e-01  1.123e-01 -0.938 0.348322\n",
       "UnderlyingPrimaryCauseOfDeathJ -3.138e-01  7.307e-01  1.167e-01 -2.689 0.007171\n",
       "UnderlyingPrimaryCauseOfDeathK -1.657e-01  8.473e-01  1.193e-01 -1.388 0.165110\n",
       "UnderlyingPrimaryCauseOfDeathL -6.455e-01  5.244e-01  2.990e-01 -2.159 0.030874\n",
       "UnderlyingPrimaryCauseOfDeathM -7.211e-03  9.928e-01  1.616e-01 -0.045 0.964414\n",
       "UnderlyingPrimaryCauseOfDeathN -3.706e-01  6.903e-01  1.692e-01 -2.190 0.028522\n",
       "UnderlyingPrimaryCauseOfDeathQ  1.104e-01  1.117e+00  2.449e-01  0.451 0.651995\n",
       "UnderlyingPrimaryCauseOfDeathR -8.345e-02  9.199e-01  1.659e-01 -0.503 0.614958\n",
       "UnderlyingPrimaryCauseOfDeathU  2.149e-01  1.240e+00  2.991e-01  0.719 0.472378\n",
       "UnderlyingPrimaryCauseOfDeathV  2.965e-01  1.345e+00  1.781e-01  1.665 0.095881\n",
       "UnderlyingPrimaryCauseOfDeathW -5.168e-02  9.496e-01  1.475e-01 -0.350 0.726102\n",
       "UnderlyingPrimaryCauseOfDeathX  6.644e-02  1.069e+00  1.305e-01  0.509 0.610667\n",
       "UnderlyingPrimaryCauseOfDeathY -7.601e-02  9.268e-01  1.719e-01 -0.442 0.658325\n",
       "AgeAtRecruitment               -4.041e-02  9.604e-01  2.007e-02 -2.013 0.044130\n",
       "AgeSquared                      3.553e-04  1.000e+00  1.727e-04  2.058 0.039600\n",
       "                                  \n",
       "Sex1                           .  \n",
       "PC1                               \n",
       "PC2                               \n",
       "PC3                               \n",
       "PC4                            *  \n",
       "PC5                            .  \n",
       "PC6                               \n",
       "PC7                               \n",
       "PC8                               \n",
       "PC9                               \n",
       "PC10                           .  \n",
       "UnderlyingPrimaryCauseOfDeathB    \n",
       "UnderlyingPrimaryCauseOfDeathC    \n",
       "UnderlyingPrimaryCauseOfDeathD .  \n",
       "UnderlyingPrimaryCauseOfDeathE    \n",
       "UnderlyingPrimaryCauseOfDeathF ***\n",
       "UnderlyingPrimaryCauseOfDeathG ***\n",
       "UnderlyingPrimaryCauseOfDeathI    \n",
       "UnderlyingPrimaryCauseOfDeathJ ** \n",
       "UnderlyingPrimaryCauseOfDeathK    \n",
       "UnderlyingPrimaryCauseOfDeathL *  \n",
       "UnderlyingPrimaryCauseOfDeathM    \n",
       "UnderlyingPrimaryCauseOfDeathN *  \n",
       "UnderlyingPrimaryCauseOfDeathQ    \n",
       "UnderlyingPrimaryCauseOfDeathR    \n",
       "UnderlyingPrimaryCauseOfDeathU    \n",
       "UnderlyingPrimaryCauseOfDeathV .  \n",
       "UnderlyingPrimaryCauseOfDeathW    \n",
       "UnderlyingPrimaryCauseOfDeathX    \n",
       "UnderlyingPrimaryCauseOfDeathY    \n",
       "AgeAtRecruitment               *  \n",
       "AgeSquared                     *  \n",
       "---\n",
       "Signif. codes:  0 ‘***’ 0.001 ‘**’ 0.01 ‘*’ 0.05 ‘.’ 0.1 ‘ ’ 1\n",
       "\n",
       "                               exp(coef) exp(-coef) lower .95 upper .95\n",
       "Sex1                           1.032e+00  9.687e-01 9.955e-01 1.071e+00\n",
       "PC1                            2.187e+00  4.573e-01 1.534e-05 3.118e+05\n",
       "PC2                            2.345e+00  4.264e-01 1.712e-05 3.214e+05\n",
       "PC3                            2.008e+01  4.979e-02 1.325e-04 3.045e+06\n",
       "PC4                            3.860e+05  2.591e-06 2.619e+00 5.690e+10\n",
       "PC5                            5.937e+04  1.684e-05 4.769e-01 7.391e+09\n",
       "PC6                            1.346e+02  7.431e-03 9.744e-04 1.859e+07\n",
       "PC7                            7.374e-04  1.356e+03 5.447e-09 9.983e+01\n",
       "PC8                            2.120e+03  4.716e-04 1.389e-02 3.237e+08\n",
       "PC9                            6.714e-01  1.489e+00 4.804e-06 9.383e+04\n",
       "PC10                           1.233e+05  8.111e-06 8.927e-01 1.703e+10\n",
       "UnderlyingPrimaryCauseOfDeathB 9.007e-01  1.110e+00 5.752e-01 1.411e+00\n",
       "UnderlyingPrimaryCauseOfDeathC 8.788e-01  1.138e+00 7.068e-01 1.093e+00\n",
       "UnderlyingPrimaryCauseOfDeathD 7.700e-01  1.299e+00 5.786e-01 1.025e+00\n",
       "UnderlyingPrimaryCauseOfDeathE 8.367e-01  1.195e+00 6.264e-01 1.118e+00\n",
       "UnderlyingPrimaryCauseOfDeathF 5.616e-01  1.780e+00 4.198e-01 7.515e-01\n",
       "UnderlyingPrimaryCauseOfDeathG 6.701e-01  1.492e+00 5.285e-01 8.498e-01\n",
       "UnderlyingPrimaryCauseOfDeathI 9.000e-01  1.111e+00 7.222e-01 1.122e+00\n",
       "UnderlyingPrimaryCauseOfDeathJ 7.307e-01  1.369e+00 5.813e-01 9.185e-01\n",
       "UnderlyingPrimaryCauseOfDeathK 8.473e-01  1.180e+00 6.706e-01 1.071e+00\n",
       "UnderlyingPrimaryCauseOfDeathL 5.244e-01  1.907e+00 2.918e-01 9.423e-01\n",
       "UnderlyingPrimaryCauseOfDeathM 9.928e-01  1.007e+00 7.233e-01 1.363e+00\n",
       "UnderlyingPrimaryCauseOfDeathN 6.903e-01  1.449e+00 4.955e-01 9.618e-01\n",
       "UnderlyingPrimaryCauseOfDeathQ 1.117e+00  8.954e-01 6.911e-01 1.805e+00\n",
       "UnderlyingPrimaryCauseOfDeathR 9.199e-01  1.087e+00 6.646e-01 1.273e+00\n",
       "UnderlyingPrimaryCauseOfDeathU 1.240e+00  8.066e-01 6.898e-01 2.228e+00\n",
       "UnderlyingPrimaryCauseOfDeathV 1.345e+00  7.434e-01 9.489e-01 1.907e+00\n",
       "UnderlyingPrimaryCauseOfDeathW 9.496e-01  1.053e+00 7.112e-01 1.268e+00\n",
       "UnderlyingPrimaryCauseOfDeathX 1.069e+00  9.357e-01 8.275e-01 1.380e+00\n",
       "UnderlyingPrimaryCauseOfDeathY 9.268e-01  1.079e+00 6.617e-01 1.298e+00\n",
       "AgeAtRecruitment               9.604e-01  1.041e+00 9.233e-01 9.989e-01\n",
       "AgeSquared                     1.000e+00  9.996e-01 1.000e+00 1.001e+00\n",
       "\n",
       "Concordance= 0.532  (se = 0.003 )\n",
       "Rsquare= 0.01   (max possible= 1 )\n",
       "Likelihood ratio test= 133.6  on 32 df,   p=2.265e-14\n",
       "Wald test            = 129.1  on 32 df,   p=1.315e-13\n",
       "Score (logrank) test = 130.1  on 32 df,   p=8.882e-14\n"
      ]
     },
     "metadata": {},
     "output_type": "display_data"
    }
   ],
   "source": [
    "summary(cox2)"
   ]
  },
  {
   "cell_type": "code",
   "execution_count": 28,
   "metadata": {},
   "outputs": [],
   "source": [
    "cox2_fit <- survfit(cox2)\n"
   ]
  },
  {
   "cell_type": "code",
   "execution_count": 29,
   "metadata": {},
   "outputs": [
    {
     "data": {},
     "metadata": {},
     "output_type": "display_data"
    },
    {
     "data": {
      "image/png": "[encoded data removed]",
      "text/plain": [
       "plot without title"
      ]
     },
     "metadata": {},
     "output_type": "display_data"
    }
   ],
   "source": [
    "autoplot(cox2_fit)\n"
   ]
  },
  {
   "cell_type": "markdown",
   "metadata": {},
   "source": [
    "## Usual Walking Pace Slow Vs Other"
   ]
  },
  {
   "cell_type": "code",
   "execution_count": 30,
   "metadata": {},
   "outputs": [
    {
     "data": {
      "text/plain": [
       "Call:\n",
       "coxph(formula = Surv(time_to_death, status) ~ Sex + PC1 + PC2 + \n",
       "    PC3 + PC4 + PC5 + PC6 + PC7 + PC8 + PC9 + PC10 + UnderlyingPrimaryCauseOfDeath + \n",
       "    AgeAtRecruitment + AgeSquared + UsualWalkingPace.SlowVsOther, \n",
       "    data = data)\n",
       "\n",
       "  n= 12351, number of events= 12351 \n",
       "   (425988 observations deleted due to missingness)\n",
       "\n",
       "                                     coef  exp(coef)   se(coef)      z Pr(>|z|)\n",
       "Sex1                            3.611e-02  1.037e+00  1.878e-02  1.923 0.054473\n",
       "PC1                             1.083e+00  2.954e+00  6.126e+00  0.177 0.859669\n",
       "PC2                             4.191e-02  1.043e+00  6.112e+00  0.007 0.994529\n",
       "PC3                             3.018e+00  2.046e+01  6.170e+00  0.489 0.624715\n",
       "PC4                             1.388e+01  1.067e+06  6.153e+00  2.256 0.024080\n",
       "PC5                             1.105e+01  6.270e+04  6.063e+00  1.822 0.068464\n",
       "PC6                             3.078e+00  2.170e+01  6.106e+00  0.504 0.614220\n",
       "PC7                            -5.749e+00  3.187e-03  6.115e+00 -0.940 0.347202\n",
       "PC8                             7.120e+00  1.236e+03  6.169e+00  1.154 0.248475\n",
       "PC9                            -2.743e+00  6.437e-02  6.139e+00 -0.447 0.655006\n",
       "PC10                            1.164e+01  1.135e+05  6.106e+00  1.906 0.056617\n",
       "UnderlyingPrimaryCauseOfDeathB -1.151e-01  8.913e-01  2.325e-01 -0.495 0.620573\n",
       "UnderlyingPrimaryCauseOfDeathC -1.125e-01  8.936e-01  1.113e-01 -1.012 0.311720\n",
       "UnderlyingPrimaryCauseOfDeathD -2.482e-01  7.802e-01  1.464e-01 -1.695 0.090049\n",
       "UnderlyingPrimaryCauseOfDeathE -2.373e-01  7.887e-01  1.518e-01 -1.563 0.118064\n",
       "UnderlyingPrimaryCauseOfDeathF -5.625e-01  5.698e-01  1.489e-01 -3.778 0.000158\n",
       "UnderlyingPrimaryCauseOfDeathG -4.040e-01  6.676e-01  1.224e-01 -3.301 0.000964\n",
       "UnderlyingPrimaryCauseOfDeathI -1.003e-01  9.046e-01  1.124e-01 -0.892 0.372290\n",
       "UnderlyingPrimaryCauseOfDeathJ -3.234e-01  7.237e-01  1.171e-01 -2.763 0.005735\n",
       "UnderlyingPrimaryCauseOfDeathK -1.473e-01  8.630e-01  1.197e-01 -1.231 0.218492\n",
       "UnderlyingPrimaryCauseOfDeathL -6.495e-01  5.223e-01  3.220e-01 -2.017 0.043727\n",
       "UnderlyingPrimaryCauseOfDeathM -6.110e-02  9.407e-01  1.635e-01 -0.374 0.708678\n",
       "UnderlyingPrimaryCauseOfDeathN -3.615e-01  6.966e-01  1.726e-01 -2.095 0.036186\n",
       "UnderlyingPrimaryCauseOfDeathQ  7.353e-02  1.076e+00  2.497e-01  0.295 0.768373\n",
       "UnderlyingPrimaryCauseOfDeathR -8.557e-02  9.180e-01  1.673e-01 -0.511 0.609057\n",
       "UnderlyingPrimaryCauseOfDeathU  2.374e-01  1.268e+00  2.992e-01  0.793 0.427601\n",
       "UnderlyingPrimaryCauseOfDeathV  3.051e-01  1.357e+00  1.793e-01  1.702 0.088808\n",
       "UnderlyingPrimaryCauseOfDeathW -5.188e-02  9.494e-01  1.482e-01 -0.350 0.726250\n",
       "UnderlyingPrimaryCauseOfDeathX  1.041e-01  1.110e+00  1.313e-01  0.793 0.427879\n",
       "UnderlyingPrimaryCauseOfDeathY -9.223e-02  9.119e-01  1.746e-01 -0.528 0.597399\n",
       "AgeAtRecruitment               -5.060e-02  9.507e-01  2.047e-02 -2.472 0.013444\n",
       "AgeSquared                      4.370e-04  1.000e+00  1.760e-04  2.483 0.013030\n",
       "UsualWalkingPace.SlowVsOther2   1.054e-01  1.111e+00  2.223e-02  4.740 2.14e-06\n",
       "                                  \n",
       "Sex1                           .  \n",
       "PC1                               \n",
       "PC2                               \n",
       "PC3                               \n",
       "PC4                            *  \n",
       "PC5                            .  \n",
       "PC6                               \n",
       "PC7                               \n",
       "PC8                               \n",
       "PC9                               \n",
       "PC10                           .  \n",
       "UnderlyingPrimaryCauseOfDeathB    \n",
       "UnderlyingPrimaryCauseOfDeathC    \n",
       "UnderlyingPrimaryCauseOfDeathD .  \n",
       "UnderlyingPrimaryCauseOfDeathE    \n",
       "UnderlyingPrimaryCauseOfDeathF ***\n",
       "UnderlyingPrimaryCauseOfDeathG ***\n",
       "UnderlyingPrimaryCauseOfDeathI    \n",
       "UnderlyingPrimaryCauseOfDeathJ ** \n",
       "UnderlyingPrimaryCauseOfDeathK    \n",
       "UnderlyingPrimaryCauseOfDeathL *  \n",
       "UnderlyingPrimaryCauseOfDeathM    \n",
       "UnderlyingPrimaryCauseOfDeathN *  \n",
       "UnderlyingPrimaryCauseOfDeathQ    \n",
       "UnderlyingPrimaryCauseOfDeathR    \n",
       "UnderlyingPrimaryCauseOfDeathU    \n",
       "UnderlyingPrimaryCauseOfDeathV .  \n",
       "UnderlyingPrimaryCauseOfDeathW    \n",
       "UnderlyingPrimaryCauseOfDeathX    \n",
       "UnderlyingPrimaryCauseOfDeathY    \n",
       "AgeAtRecruitment               *  \n",
       "AgeSquared                     *  \n",
       "UsualWalkingPace.SlowVsOther2  ***\n",
       "---\n",
       "Signif. codes:  0 ‘***’ 0.001 ‘**’ 0.01 ‘*’ 0.05 ‘.’ 0.1 ‘ ’ 1\n",
       "\n",
       "                               exp(coef) exp(-coef) lower .95 upper .95\n",
       "Sex1                           1.037e+00  9.645e-01 9.993e-01 1.076e+00\n",
       "PC1                            2.954e+00  3.386e-01 1.802e-05 4.842e+05\n",
       "PC2                            1.043e+00  9.590e-01 6.545e-06 1.661e+05\n",
       "PC3                            2.046e+01  4.888e-02 1.145e-04 3.655e+06\n",
       "PC4                            1.067e+06  9.372e-07 6.176e+00 1.844e+11\n",
       "PC5                            6.270e+04  1.595e-05 4.331e-01 9.076e+09\n",
       "PC6                            2.170e+01  4.607e-02 1.379e-04 3.416e+06\n",
       "PC7                            3.187e-03  3.138e+02 1.985e-08 5.115e+02\n",
       "PC8                            1.236e+03  8.090e-04 6.931e-03 2.204e+08\n",
       "PC9                            6.437e-02  1.554e+01 3.828e-07 1.082e+04\n",
       "PC10                           1.135e+05  8.810e-06 7.204e-01 1.788e+10\n",
       "UnderlyingPrimaryCauseOfDeathB 8.913e-01  1.122e+00 5.651e-01 1.406e+00\n",
       "UnderlyingPrimaryCauseOfDeathC 8.936e-01  1.119e+00 7.185e-01 1.111e+00\n",
       "UnderlyingPrimaryCauseOfDeathD 7.802e-01  1.282e+00 5.856e-01 1.040e+00\n",
       "UnderlyingPrimaryCauseOfDeathE 7.887e-01  1.268e+00 5.857e-01 1.062e+00\n",
       "UnderlyingPrimaryCauseOfDeathF 5.698e-01  1.755e+00 4.255e-01 7.629e-01\n",
       "UnderlyingPrimaryCauseOfDeathG 6.676e-01  1.498e+00 5.252e-01 8.486e-01\n",
       "UnderlyingPrimaryCauseOfDeathI 9.046e-01  1.105e+00 7.258e-01 1.127e+00\n",
       "UnderlyingPrimaryCauseOfDeathJ 7.237e-01  1.382e+00 5.753e-01 9.103e-01\n",
       "UnderlyingPrimaryCauseOfDeathK 8.630e-01  1.159e+00 6.825e-01 1.091e+00\n",
       "UnderlyingPrimaryCauseOfDeathL 5.223e-01  1.915e+00 2.779e-01 9.819e-01\n",
       "UnderlyingPrimaryCauseOfDeathM 9.407e-01  1.063e+00 6.828e-01 1.296e+00\n",
       "UnderlyingPrimaryCauseOfDeathN 6.966e-01  1.436e+00 4.967e-01 9.770e-01\n",
       "UnderlyingPrimaryCauseOfDeathQ 1.076e+00  9.291e-01 6.598e-01 1.756e+00\n",
       "UnderlyingPrimaryCauseOfDeathR 9.180e-01  1.089e+00 6.613e-01 1.274e+00\n",
       "UnderlyingPrimaryCauseOfDeathU 1.268e+00  7.887e-01 7.053e-01 2.279e+00\n",
       "UnderlyingPrimaryCauseOfDeathV 1.357e+00  7.371e-01 9.548e-01 1.928e+00\n",
       "UnderlyingPrimaryCauseOfDeathW 9.494e-01  1.053e+00 7.101e-01 1.269e+00\n",
       "UnderlyingPrimaryCauseOfDeathX 1.110e+00  9.012e-01 8.579e-01 1.435e+00\n",
       "UnderlyingPrimaryCauseOfDeathY 9.119e-01  1.097e+00 6.476e-01 1.284e+00\n",
       "AgeAtRecruitment               9.507e-01  1.052e+00 9.133e-01 9.896e-01\n",
       "AgeSquared                     1.000e+00  9.996e-01 1.000e+00 1.001e+00\n",
       "UsualWalkingPace.SlowVsOther2  1.111e+00  9.000e-01 1.064e+00 1.161e+00\n",
       "\n",
       "Concordance= 0.539  (se = 0.003 )\n",
       "Rsquare= 0.012   (max possible= 1 )\n",
       "Likelihood ratio test= 151.3  on 33 df,   p=0\n",
       "Wald test            = 147.5  on 33 df,   p=2.22e-16\n",
       "Score (logrank) test = 148.4  on 33 df,   p=1.11e-16\n"
      ]
     },
     "metadata": {},
     "output_type": "display_data"
    },
    {
     "data": {},
     "metadata": {},
     "output_type": "display_data"
    },
    {
     "data": {
      "image/png": "[encoded data removed]",
      "text/plain": [
       "plot without title"
      ]
     },
     "metadata": {},
     "output_type": "display_data"
    }
   ],
   "source": [
    "#fit Cox proportional hazards model that makes use of all covariates in dataset \n",
    "cox <- coxph(Surv(time_to_death, status) ~ Sex+\n",
    "             PC1+\n",
    "             PC2+\n",
    "             PC3+\n",
    "             PC4+\n",
    "             PC5+\n",
    "             PC6+\n",
    "             PC7+\n",
    "             PC8+\n",
    "             PC9+\n",
    "             PC10+\n",
    "             UnderlyingPrimaryCauseOfDeath+\n",
    "             AgeAtRecruitment+\n",
    "             AgeSquared+\n",
    "             UsualWalkingPace.SlowVsOther,\n",
    "             data = data)\n",
    "summary(cox)\n",
    "cox_fit <- survfit(cox)\n",
    "autoplot(cox_fit)\n"
   ]
  },
  {
   "cell_type": "code",
   "execution_count": 31,
   "metadata": {},
   "outputs": [],
   "source": [
    "aa_fit <- aareg(Surv(time_to_death, status) ~ Sex+\n",
    "             PC1+\n",
    "             PC2+\n",
    "             PC3+\n",
    "             PC4+\n",
    "             PC5+\n",
    "             PC6+\n",
    "             PC7+\n",
    "             PC8+\n",
    "             PC9+\n",
    "             PC10+\n",
    "             UnderlyingPrimaryCauseOfDeath+\n",
    "             AgeAtRecruitment+\n",
    "             AgeSquared+\n",
    "             UsualWalkingPace.SlowVsOther,\n",
    "             data = data)\n"
   ]
  },
  {
   "cell_type": "code",
   "execution_count": 32,
   "metadata": {},
   "outputs": [
    {
     "name": "stderr",
     "output_type": "stream",
     "text": [
      "Warning message:\n",
      "“Removed 1958 rows containing missing values (geom_path).”"
     ]
    },
    {
     "data": {},
     "metadata": {},
     "output_type": "display_data"
    },
    {
     "data": {
      "text/html": [
       "<strong>png:</strong> 2"
      ],
      "text/latex": [
       "\\textbf{png:} 2"
      ],
      "text/markdown": [
       "**png:** 2"
      ],
      "text/plain": [
       "png \n",
       "  2 "
      ]
     },
     "metadata": {},
     "output_type": "display_data"
    }
   ],
   "source": [
    "png(\"aa_fit_usual_walking_pace_slow_vs_other.png\",height=20,width=20,units = \"in\",res=300)\n",
    "autoplot(aa_fit)\n",
    "dev.off()\n"
   ]
  },
  {
   "cell_type": "markdown",
   "metadata": {},
   "source": [
    "![aa_fit](aa_fit_usual_walking_pace_slow_vs_other.png)"
   ]
  },
  {
   "cell_type": "code",
   "execution_count": null,
   "metadata": {},
   "outputs": [],
   "source": []
  }
 ],
 "metadata": {
  "kernelspec": {
   "display_name": "R",
   "language": "R",
   "name": "ir"
  },
  "language_info": {
   "codemirror_mode": "r",
   "file_extension": ".r",
   "mimetype": "text/x-r-source",
   "name": "R",
   "pygments_lexer": "r",
   "version": "3.4.0"
  }
 },
 "nbformat": 4,
 "nbformat_minor": 2
}
