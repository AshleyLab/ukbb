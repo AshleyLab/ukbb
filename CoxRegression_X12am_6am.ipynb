{
 "cells": [
  {
   "cell_type": "code",
   "execution_count": 1,
   "metadata": {},
   "outputs": [
    {
     "name": "stderr",
     "output_type": "stream",
     "text": [
      "\n",
      "Attaching package: ‘dplyr’\n",
      "\n",
      "The following objects are masked from ‘package:stats’:\n",
      "\n",
      "    filter, lag\n",
      "\n",
      "The following objects are masked from ‘package:base’:\n",
      "\n",
      "    intersect, setdiff, setequal, union\n",
      "\n"
     ]
    }
   ],
   "source": [
    "rm(list=ls())\n",
    "library(dplyr)\n",
    "library(tidyr)"
   ]
  },
  {
   "cell_type": "code",
   "execution_count": 2,
   "metadata": {},
   "outputs": [],
   "source": [
    "exposure_name=\"X12am_6am\"\n",
    "outcome_name=\"CvdStatus\""
   ]
  },
  {
   "cell_type": "code",
   "execution_count": 3,
   "metadata": {},
   "outputs": [],
   "source": [
    "#load the covariates \n",
    "covar=read.table(\"mr_covariates.euro.txt\",header=TRUE,sep='\\t',stringsAsFactors = FALSE)\n",
    "covar$IID=NULL\n",
    "covar$Sex=factor(covar$Sex)\n",
    "covar$f.batch=NULL\n",
    "\n",
    "\n",
    "icd=read.table(\"primary_cause_of_death_collapsed.txt\",header=TRUE,sep='\\t',stringsAsFactors = FALSE)\n",
    "icd$IID=NULL\n",
    "icd$UnderlyingPrimaryCauseOfDeath=factor(icd$UnderlyingPrimaryCauseOfDeath)\n",
    "#add in column for major cause of death \n",
    "data=inner_join(covar,icd,by=\"FID\")\n"
   ]
  },
  {
   "cell_type": "code",
   "execution_count": 4,
   "metadata": {},
   "outputs": [],
   "source": [
    "# add in age^2 as a covariate \n",
    "ages=read.table(\"ages_recruitment_death.txt\",header=TRUE,sep='\\t',stringsAsFactors = FALSE)\n",
    "ages$AgeSquared=ages$AgeAtRecruitment^2"
   ]
  },
  {
   "cell_type": "code",
   "execution_count": 5,
   "metadata": {},
   "outputs": [],
   "source": [
    "#calculate time to death\n",
    "ages$time_to_death=ages$AgeAtDeath-ages$AgeAtRecruitment\n",
    "\n",
    "#or, other outcome: \n",
    "#outcome_mr=read.table(\"mr_outcome.txt\",header=TRUE,row.names=1,sep='\\t')\n",
    "#outcome_v=factor(as.matrix(subset(outcome_mr,select=c(outcome_name))))\n",
    "data=inner_join(data,ages,by=\"FID\")\n"
   ]
  },
  {
   "cell_type": "code",
   "execution_count": 6,
   "metadata": {},
   "outputs": [],
   "source": [
    "#read in the PLINK results for the exposure variable \n",
    "snps=read.table(paste(\"mr_snp_subsets/\",exposure_name,sep=\"\"),header=TRUE,sep='\\t')\n",
    "snps[snps==-1]=NA\n",
    "names(snps)[1]=\"FID\""
   ]
  },
  {
   "cell_type": "code",
   "execution_count": 7,
   "metadata": {},
   "outputs": [],
   "source": [
    "#get exposure values \n",
    "exposure_mr=read.table(\"mr_exposures.txt\",header=TRUE,sep='\\t')\n",
    "names(exposure_mr)[1]=\"FID\"\n",
    "exposure_mr=subset(exposure_mr,select=c(\"FID\",exposure_name))"
   ]
  },
  {
   "cell_type": "code",
   "execution_count": 8,
   "metadata": {},
   "outputs": [],
   "source": [
    "data=inner_join(data,snps,by=\"FID\")"
   ]
  },
  {
   "cell_type": "code",
   "execution_count": 9,
   "metadata": {},
   "outputs": [],
   "source": [
    "data=inner_join(data,exposure_mr,by=\"FID\")"
   ]
  },
  {
   "cell_type": "code",
   "execution_count": 10,
   "metadata": {},
   "outputs": [],
   "source": [
    "#Clean up (remove fields not needed for Cox regression)\n",
    "data$IID=NULL \n",
    "data$YearOfBirth=NULL\n",
    "data$AgeAtDeath=NULL\n",
    "data$FID=NULL"
   ]
  },
  {
   "cell_type": "code",
   "execution_count": 11,
   "metadata": {},
   "outputs": [],
   "source": [
    "#censor the subjects who are still alive \n",
    "data$status=1 \n",
    "data$status[is.na(data$time_to_death)]=0"
   ]
  },
  {
   "cell_type": "code",
   "execution_count": 12,
   "metadata": {},
   "outputs": [
    {
     "data": {
      "text/html": [
       "<table>\n",
       "<thead><tr><th scope=col>Sex</th><th scope=col>PC1</th><th scope=col>PC2</th><th scope=col>PC3</th><th scope=col>PC4</th><th scope=col>PC5</th><th scope=col>PC6</th><th scope=col>PC7</th><th scope=col>PC8</th><th scope=col>PC9</th><th scope=col>⋯</th><th scope=col>rs116531262</th><th scope=col>rs116243129</th><th scope=col>rs13263303</th><th scope=col>rs73525979</th><th scope=col>rs115695707</th><th scope=col>rs77950177</th><th scope=col>rs73540646</th><th scope=col>rs146916925</th><th scope=col>X12am_6am</th><th scope=col>status</th></tr></thead>\n",
       "<tbody>\n",
       "\t<tr><td>0           </td><td> 0.000098641</td><td> 8.37416e-05</td><td>-0.00117254 </td><td> 0.000546942</td><td> 0.001284070</td><td> 0.002849690</td><td> 0.000991806</td><td> 0.001610640</td><td> 2.94963e-04</td><td>⋯           </td><td>0           </td><td>0           </td><td>0           </td><td>0           </td><td>0           </td><td>2           </td><td>0           </td><td>0           </td><td>NA          </td><td>0           </td></tr>\n",
       "\t<tr><td>1           </td><td> 0.000165284</td><td>-1.74393e-03</td><td>-0.00128201 </td><td>-0.001167590</td><td> 0.000114421</td><td>-0.000426776</td><td>-0.000514346</td><td> 0.000754035</td><td> 7.04738e-04</td><td>⋯           </td><td>0           </td><td>0           </td><td>0           </td><td>0           </td><td>0           </td><td>2           </td><td>0           </td><td>0           </td><td>NA          </td><td>0           </td></tr>\n",
       "\t<tr><td>1           </td><td>-0.001150320</td><td> 2.59310e-03</td><td>-0.00102302 </td><td> 0.001088750</td><td> 0.000652283</td><td> 0.001128640</td><td> 0.000320505</td><td> 0.001577040</td><td>-3.62959e-03</td><td>⋯           </td><td>0           </td><td>0           </td><td>0           </td><td>0           </td><td>0           </td><td>0           </td><td>0           </td><td>0           </td><td>NA          </td><td>0           </td></tr>\n",
       "\t<tr><td>1           </td><td>-0.000301001</td><td>-4.84239e-04</td><td> 0.00105944 </td><td>-0.002191060</td><td> 0.001082250</td><td>-0.001773900</td><td>-0.001607440</td><td>-0.001415470</td><td> 9.47541e-04</td><td>⋯           </td><td>0           </td><td>0           </td><td>0           </td><td>0           </td><td>0           </td><td>2           </td><td>0           </td><td>0           </td><td>NA          </td><td>0           </td></tr>\n",
       "\t<tr><td>1           </td><td>-0.001632870</td><td>-4.77821e-04</td><td> 0.00103906 </td><td> 0.001274720</td><td>-0.002076400</td><td>-0.001697290</td><td> 0.001353240</td><td>-0.001149060</td><td> 2.41438e-05</td><td>⋯           </td><td>0           </td><td>0           </td><td>0           </td><td>0           </td><td>0           </td><td>0           </td><td>0           </td><td>0           </td><td>NA          </td><td>0           </td></tr>\n",
       "\t<tr><td>0           </td><td> 0.002497990</td><td>-2.32333e-04</td><td>-0.00137302 </td><td> 0.000604198</td><td>-0.001654240</td><td>-0.000346408</td><td> 0.001155690</td><td>-0.001111370</td><td> 1.74310e-03</td><td>⋯           </td><td>0           </td><td>0           </td><td>0           </td><td>0           </td><td>0           </td><td>1           </td><td>0           </td><td>0           </td><td>NA          </td><td>0           </td></tr>\n",
       "</tbody>\n",
       "</table>\n"
      ],
      "text/latex": [
       "\\begin{tabular}{r|llllllllllllllllllllllllllllllllllllllllllllllllllllllllllllllllllllllllllllllllllllllllllllllllllllllllllllll}\n",
       " Sex & PC1 & PC2 & PC3 & PC4 & PC5 & PC6 & PC7 & PC8 & PC9 & ⋯ & rs116531262 & rs116243129 & rs13263303 & rs73525979 & rs115695707 & rs77950177 & rs73540646 & rs146916925 & X12am\\_6am & status\\\\\n",
       "\\hline\n",
       "\t 0            &  0.000098641 &  8.37416e-05 & -0.00117254  &  0.000546942 &  0.001284070 &  0.002849690 &  0.000991806 &  0.001610640 &  2.94963e-04 & ⋯            & 0            & 0            & 0            & 0            & 0            & 2            & 0            & 0            & NA           & 0           \\\\\n",
       "\t 1            &  0.000165284 & -1.74393e-03 & -0.00128201  & -0.001167590 &  0.000114421 & -0.000426776 & -0.000514346 &  0.000754035 &  7.04738e-04 & ⋯            & 0            & 0            & 0            & 0            & 0            & 2            & 0            & 0            & NA           & 0           \\\\\n",
       "\t 1            & -0.001150320 &  2.59310e-03 & -0.00102302  &  0.001088750 &  0.000652283 &  0.001128640 &  0.000320505 &  0.001577040 & -3.62959e-03 & ⋯            & 0            & 0            & 0            & 0            & 0            & 0            & 0            & 0            & NA           & 0           \\\\\n",
       "\t 1            & -0.000301001 & -4.84239e-04 &  0.00105944  & -0.002191060 &  0.001082250 & -0.001773900 & -0.001607440 & -0.001415470 &  9.47541e-04 & ⋯            & 0            & 0            & 0            & 0            & 0            & 2            & 0            & 0            & NA           & 0           \\\\\n",
       "\t 1            & -0.001632870 & -4.77821e-04 &  0.00103906  &  0.001274720 & -0.002076400 & -0.001697290 &  0.001353240 & -0.001149060 &  2.41438e-05 & ⋯            & 0            & 0            & 0            & 0            & 0            & 0            & 0            & 0            & NA           & 0           \\\\\n",
       "\t 0            &  0.002497990 & -2.32333e-04 & -0.00137302  &  0.000604198 & -0.001654240 & -0.000346408 &  0.001155690 & -0.001111370 &  1.74310e-03 & ⋯            & 0            & 0            & 0            & 0            & 0            & 1            & 0            & 0            & NA           & 0           \\\\\n",
       "\\end{tabular}\n"
      ],
      "text/markdown": [
       "\n",
       "Sex | PC1 | PC2 | PC3 | PC4 | PC5 | PC6 | PC7 | PC8 | PC9 | ⋯ | rs116531262 | rs116243129 | rs13263303 | rs73525979 | rs115695707 | rs77950177 | rs73540646 | rs146916925 | X12am_6am | status | \n",
       "|---|---|---|---|---|---|\n",
       "| 0            |  0.000098641 |  8.37416e-05 | -0.00117254  |  0.000546942 |  0.001284070 |  0.002849690 |  0.000991806 |  0.001610640 |  2.94963e-04 | ⋯            | 0            | 0            | 0            | 0            | 0            | 2            | 0            | 0            | NA           | 0            | \n",
       "| 1            |  0.000165284 | -1.74393e-03 | -0.00128201  | -0.001167590 |  0.000114421 | -0.000426776 | -0.000514346 |  0.000754035 |  7.04738e-04 | ⋯            | 0            | 0            | 0            | 0            | 0            | 2            | 0            | 0            | NA           | 0            | \n",
       "| 1            | -0.001150320 |  2.59310e-03 | -0.00102302  |  0.001088750 |  0.000652283 |  0.001128640 |  0.000320505 |  0.001577040 | -3.62959e-03 | ⋯            | 0            | 0            | 0            | 0            | 0            | 0            | 0            | 0            | NA           | 0            | \n",
       "| 1            | -0.000301001 | -4.84239e-04 |  0.00105944  | -0.002191060 |  0.001082250 | -0.001773900 | -0.001607440 | -0.001415470 |  9.47541e-04 | ⋯            | 0            | 0            | 0            | 0            | 0            | 2            | 0            | 0            | NA           | 0            | \n",
       "| 1            | -0.001632870 | -4.77821e-04 |  0.00103906  |  0.001274720 | -0.002076400 | -0.001697290 |  0.001353240 | -0.001149060 |  2.41438e-05 | ⋯            | 0            | 0            | 0            | 0            | 0            | 0            | 0            | 0            | NA           | 0            | \n",
       "| 0            |  0.002497990 | -2.32333e-04 | -0.00137302  |  0.000604198 | -0.001654240 | -0.000346408 |  0.001155690 | -0.001111370 |  1.74310e-03 | ⋯            | 0            | 0            | 0            | 0            | 0            | 1            | 0            | 0            | NA           | 0            | \n",
       "\n",
       "\n"
      ],
      "text/plain": [
       "  Sex PC1          PC2          PC3         PC4          PC5         \n",
       "1 0    0.000098641  8.37416e-05 -0.00117254  0.000546942  0.001284070\n",
       "2 1    0.000165284 -1.74393e-03 -0.00128201 -0.001167590  0.000114421\n",
       "3 1   -0.001150320  2.59310e-03 -0.00102302  0.001088750  0.000652283\n",
       "4 1   -0.000301001 -4.84239e-04  0.00105944 -0.002191060  0.001082250\n",
       "5 1   -0.001632870 -4.77821e-04  0.00103906  0.001274720 -0.002076400\n",
       "6 0    0.002497990 -2.32333e-04 -0.00137302  0.000604198 -0.001654240\n",
       "  PC6          PC7          PC8          PC9          ⋯ rs116531262 rs116243129\n",
       "1  0.002849690  0.000991806  0.001610640  2.94963e-04 ⋯ 0           0          \n",
       "2 -0.000426776 -0.000514346  0.000754035  7.04738e-04 ⋯ 0           0          \n",
       "3  0.001128640  0.000320505  0.001577040 -3.62959e-03 ⋯ 0           0          \n",
       "4 -0.001773900 -0.001607440 -0.001415470  9.47541e-04 ⋯ 0           0          \n",
       "5 -0.001697290  0.001353240 -0.001149060  2.41438e-05 ⋯ 0           0          \n",
       "6 -0.000346408  0.001155690 -0.001111370  1.74310e-03 ⋯ 0           0          \n",
       "  rs13263303 rs73525979 rs115695707 rs77950177 rs73540646 rs146916925 X12am_6am\n",
       "1 0          0          0           2          0          0           NA       \n",
       "2 0          0          0           2          0          0           NA       \n",
       "3 0          0          0           0          0          0           NA       \n",
       "4 0          0          0           2          0          0           NA       \n",
       "5 0          0          0           0          0          0           NA       \n",
       "6 0          0          0           1          0          0           NA       \n",
       "  status\n",
       "1 0     \n",
       "2 0     \n",
       "3 0     \n",
       "4 0     \n",
       "5 0     \n",
       "6 0     "
      ]
     },
     "metadata": {},
     "output_type": "display_data"
    }
   ],
   "source": [
    "head(data)"
   ]
  },
  {
   "cell_type": "code",
   "execution_count": 13,
   "metadata": {},
   "outputs": [],
   "source": [
    "#Perform multivariate Cox Regression\n",
    "\n",
    "#load the necessary packages \n",
    "library(survival)\n",
    "library(ranger)\n",
    "library(ggplot2)\n",
    "library(ggfortify)\n"
   ]
  },
  {
   "cell_type": "code",
   "execution_count": 14,
   "metadata": {},
   "outputs": [
    {
     "name": "stderr",
     "output_type": "stream",
     "text": [
      "Warning message in coxph(Surv(time_to_death, status) ~ Sex + PC1 + PC2 + PC3 + PC4 + :\n",
      "“X matrix deemed to be singular; variable 12 21 24 26”"
     ]
    }
   ],
   "source": [
    "#fit Cox proportional hazards model that makes use of all covariates in dataset \n",
    "cox <- coxph(Surv(time_to_death, status) ~ Sex+\n",
    "             PC1+\n",
    "             PC2+\n",
    "             PC3+\n",
    "             PC4+\n",
    "             PC5+\n",
    "             PC6+\n",
    "             PC7+\n",
    "             PC8+\n",
    "             PC9+\n",
    "             PC10+\n",
    "             UnderlyingPrimaryCauseOfDeath+\n",
    "             AgeAtRecruitment+\n",
    "             AgeSquared+\n",
    "             X12am_6am,\n",
    "             data = data)\n"
   ]
  },
  {
   "cell_type": "code",
   "execution_count": 15,
   "metadata": {},
   "outputs": [
    {
     "data": {
      "text/plain": [
       "Call:\n",
       "coxph(formula = Surv(time_to_death, status) ~ Sex + PC1 + PC2 + \n",
       "    PC3 + PC4 + PC5 + PC6 + PC7 + PC8 + PC9 + PC10 + UnderlyingPrimaryCauseOfDeath + \n",
       "    AgeAtRecruitment + AgeSquared + X12am_6am, data = data)\n",
       "\n",
       "  n= 220, number of events= 220 \n",
       "   (438119 observations deleted due to missingness)\n",
       "\n",
       "                                     coef  exp(coef)   se(coef)      z Pr(>|z|)\n",
       "Sex1                           -1.929e-01  8.245e-01  1.605e-01 -1.202  0.22917\n",
       "PC1                            -4.816e+00  8.103e-03  4.803e+01 -0.100  0.92013\n",
       "PC2                             9.887e+01  8.675e+42  5.056e+01  1.955  0.05053\n",
       "PC3                             4.330e+01  6.400e+18  4.727e+01  0.916  0.35963\n",
       "PC4                             5.384e+00  2.179e+02  5.215e+01  0.103  0.91778\n",
       "PC5                            -7.318e+01  1.657e-32  5.512e+01 -1.328  0.18428\n",
       "PC6                            -9.736e+01  5.216e-43  5.105e+01 -1.907  0.05650\n",
       "PC7                            -3.425e+01  1.338e-15  5.420e+01 -0.632  0.52749\n",
       "PC8                            -5.518e+01  1.084e-24  5.413e+01 -1.019  0.30800\n",
       "PC9                            -3.317e+01  3.913e-15  4.843e+01 -0.685  0.49338\n",
       "PC10                           -1.837e+01  1.054e-08  5.778e+01 -0.318  0.75055\n",
       "UnderlyingPrimaryCauseOfDeathB         NA         NA  0.000e+00     NA       NA\n",
       "UnderlyingPrimaryCauseOfDeathC  1.353e+00  3.868e+00  1.051e+00  1.287  0.19812\n",
       "UnderlyingPrimaryCauseOfDeathD  1.080e+00  2.945e+00  1.126e+00  0.959  0.33732\n",
       "UnderlyingPrimaryCauseOfDeathE  9.930e-01  2.699e+00  1.446e+00  0.687  0.49217\n",
       "UnderlyingPrimaryCauseOfDeathF  2.520e+00  1.243e+01  1.472e+00  1.712  0.08688\n",
       "UnderlyingPrimaryCauseOfDeathG  1.244e+00  3.471e+00  1.212e+00  1.026  0.30468\n",
       "UnderlyingPrimaryCauseOfDeathI  1.388e+00  4.008e+00  1.050e+00  1.322  0.18605\n",
       "UnderlyingPrimaryCauseOfDeathJ  1.566e+00  4.789e+00  1.102e+00  1.421  0.15522\n",
       "UnderlyingPrimaryCauseOfDeathK  9.350e-01  2.547e+00  1.153e+00  0.811  0.41732\n",
       "UnderlyingPrimaryCauseOfDeathL         NA         NA  0.000e+00     NA       NA\n",
       "UnderlyingPrimaryCauseOfDeathM  1.456e+00  4.291e+00  1.449e+00  1.005  0.31475\n",
       "UnderlyingPrimaryCauseOfDeathN  1.845e+00  6.326e+00  1.498e+00  1.231  0.21827\n",
       "UnderlyingPrimaryCauseOfDeathQ         NA         NA  0.000e+00     NA       NA\n",
       "UnderlyingPrimaryCauseOfDeathR -2.647e-01  7.674e-01  1.519e+00 -0.174  0.86163\n",
       "UnderlyingPrimaryCauseOfDeathU         NA         NA  0.000e+00     NA       NA\n",
       "UnderlyingPrimaryCauseOfDeathV  4.182e+00  6.551e+01  1.512e+00  2.767  0.00566\n",
       "UnderlyingPrimaryCauseOfDeathW -1.164e-01  8.902e-01  1.453e+00 -0.080  0.93616\n",
       "UnderlyingPrimaryCauseOfDeathX  6.873e-01  1.988e+00  1.210e+00  0.568  0.57000\n",
       "UnderlyingPrimaryCauseOfDeathY  1.068e+00  2.911e+00  1.460e+00  0.732  0.46428\n",
       "AgeAtRecruitment               -2.346e-01  7.909e-01  1.801e-01 -1.303  0.19262\n",
       "AgeSquared                      1.916e-03  1.002e+00  1.553e-03  1.234  0.21733\n",
       "X12am_6am                      -2.949e-02  9.709e-01  2.037e-02 -1.448  0.14762\n",
       "                                 \n",
       "Sex1                             \n",
       "PC1                              \n",
       "PC2                            . \n",
       "PC3                              \n",
       "PC4                              \n",
       "PC5                              \n",
       "PC6                            . \n",
       "PC7                              \n",
       "PC8                              \n",
       "PC9                              \n",
       "PC10                             \n",
       "UnderlyingPrimaryCauseOfDeathB   \n",
       "UnderlyingPrimaryCauseOfDeathC   \n",
       "UnderlyingPrimaryCauseOfDeathD   \n",
       "UnderlyingPrimaryCauseOfDeathE   \n",
       "UnderlyingPrimaryCauseOfDeathF . \n",
       "UnderlyingPrimaryCauseOfDeathG   \n",
       "UnderlyingPrimaryCauseOfDeathI   \n",
       "UnderlyingPrimaryCauseOfDeathJ   \n",
       "UnderlyingPrimaryCauseOfDeathK   \n",
       "UnderlyingPrimaryCauseOfDeathL   \n",
       "UnderlyingPrimaryCauseOfDeathM   \n",
       "UnderlyingPrimaryCauseOfDeathN   \n",
       "UnderlyingPrimaryCauseOfDeathQ   \n",
       "UnderlyingPrimaryCauseOfDeathR   \n",
       "UnderlyingPrimaryCauseOfDeathU   \n",
       "UnderlyingPrimaryCauseOfDeathV **\n",
       "UnderlyingPrimaryCauseOfDeathW   \n",
       "UnderlyingPrimaryCauseOfDeathX   \n",
       "UnderlyingPrimaryCauseOfDeathY   \n",
       "AgeAtRecruitment                 \n",
       "AgeSquared                       \n",
       "X12am_6am                        \n",
       "---\n",
       "Signif. codes:  0 ‘***’ 0.001 ‘**’ 0.01 ‘*’ 0.05 ‘.’ 0.1 ‘ ’ 1\n",
       "\n",
       "                               exp(coef) exp(-coef) lower .95 upper .95\n",
       "Sex1                           8.245e-01  1.213e+00 6.020e-01 1.129e+00\n",
       "PC1                            8.103e-03  1.234e+02 1.067e-43 6.153e+38\n",
       "PC2                            8.675e+42  1.153e-43 7.961e-01 9.454e+85\n",
       "PC3                            6.400e+18  1.563e-19 3.713e-22 1.103e+59\n",
       "PC4                            2.179e+02  4.590e-03 8.816e-43 5.384e+46\n",
       "PC5                            1.657e-32  6.035e+31 2.014e-79 1.363e+15\n",
       "PC6                            5.216e-43  1.917e+42 1.837e-86 1.481e+01\n",
       "PC7                            1.338e-15  7.471e+14 9.758e-62 1.836e+31\n",
       "PC8                            1.084e-24  9.221e+23 9.130e-71 1.288e+22\n",
       "PC9                            3.913e-15  2.555e+14 2.319e-56 6.604e+26\n",
       "PC10                           1.054e-08  9.489e+07 6.961e-58 1.595e+41\n",
       "UnderlyingPrimaryCauseOfDeathB        NA         NA        NA        NA\n",
       "UnderlyingPrimaryCauseOfDeathC 3.868e+00  2.585e-01 4.929e-01 3.035e+01\n",
       "UnderlyingPrimaryCauseOfDeathD 2.945e+00  3.396e-01 3.242e-01 2.675e+01\n",
       "UnderlyingPrimaryCauseOfDeathE 2.699e+00  3.705e-01 1.587e-01 4.591e+01\n",
       "UnderlyingPrimaryCauseOfDeathF 1.243e+01  8.042e-02 6.942e-01 2.227e+02\n",
       "UnderlyingPrimaryCauseOfDeathG 3.471e+00  2.881e-01 3.225e-01 3.736e+01\n",
       "UnderlyingPrimaryCauseOfDeathI 4.008e+00  2.495e-01 5.120e-01 3.138e+01\n",
       "UnderlyingPrimaryCauseOfDeathJ 4.789e+00  2.088e-01 5.523e-01 4.153e+01\n",
       "UnderlyingPrimaryCauseOfDeathK 2.547e+00  3.926e-01 2.659e-01 2.440e+01\n",
       "UnderlyingPrimaryCauseOfDeathL        NA         NA        NA        NA\n",
       "UnderlyingPrimaryCauseOfDeathM 4.291e+00  2.331e-01 2.508e-01 7.341e+01\n",
       "UnderlyingPrimaryCauseOfDeathN 6.326e+00  1.581e-01 3.356e-01 1.192e+02\n",
       "UnderlyingPrimaryCauseOfDeathQ        NA         NA        NA        NA\n",
       "UnderlyingPrimaryCauseOfDeathR 7.674e-01  1.303e+00 3.912e-02 1.505e+01\n",
       "UnderlyingPrimaryCauseOfDeathU        NA         NA        NA        NA\n",
       "UnderlyingPrimaryCauseOfDeathV 6.551e+01  1.527e-02 3.386e+00 1.267e+03\n",
       "UnderlyingPrimaryCauseOfDeathW 8.902e-01  1.123e+00 5.162e-02 1.535e+01\n",
       "UnderlyingPrimaryCauseOfDeathX 1.988e+00  5.029e-01 1.856e-01 2.130e+01\n",
       "UnderlyingPrimaryCauseOfDeathY 2.911e+00  3.435e-01 1.664e-01 5.091e+01\n",
       "AgeAtRecruitment               7.909e-01  1.264e+00 5.557e-01 1.126e+00\n",
       "AgeSquared                     1.002e+00  9.981e-01 9.989e-01 1.005e+00\n",
       "X12am_6am                      9.709e-01  1.030e+00 9.329e-01 1.010e+00\n",
       "\n",
       "Concordance= 0.603  (se = 0.023 )\n",
       "Rsquare= 0.145   (max possible= 1 )\n",
       "Likelihood ratio test= 34.4  on 29 df,   p=0.225\n",
       "Wald test            = 38.07  on 29 df,   p=0.1208\n",
       "Score (logrank) test = 52.25  on 29 df,   p=0.00511\n"
      ]
     },
     "metadata": {},
     "output_type": "display_data"
    }
   ],
   "source": [
    "summary(cox)"
   ]
  },
  {
   "cell_type": "code",
   "execution_count": 16,
   "metadata": {},
   "outputs": [],
   "source": [
    "cox_fit <- survfit(cox)\n"
   ]
  },
  {
   "cell_type": "code",
   "execution_count": 17,
   "metadata": {
    "scrolled": true
   },
   "outputs": [
    {
     "data": {},
     "metadata": {},
     "output_type": "display_data"
    },
    {
     "data": {
      "image/png": "[encoded data removed]",
      "text/plain": [
       "plot without title"
      ]
     },
     "metadata": {},
     "output_type": "display_data"
    }
   ],
   "source": [
    "autoplot(cox_fit)\n"
   ]
  },
  {
   "cell_type": "code",
   "execution_count": 24,
   "metadata": {},
   "outputs": [],
   "source": [
    "#remove exposure value and re-run proportional hazards model \n",
    "cox2 <- coxph(Surv(time_to_death, status) ~ Sex+\n",
    "             PC1+\n",
    "             PC2+\n",
    "             PC3+\n",
    "             PC4+\n",
    "             PC5+\n",
    "             PC6+\n",
    "             PC7+\n",
    "             PC8+\n",
    "             PC9+\n",
    "             PC10+\n",
    "             UnderlyingPrimaryCauseOfDeath+\n",
    "             AgeAtRecruitment+\n",
    "             AgeSquared,\n",
    "             data = data)\n"
   ]
  },
  {
   "cell_type": "code",
   "execution_count": 25,
   "metadata": {},
   "outputs": [
    {
     "data": {
      "text/plain": [
       "Call:\n",
       "coxph(formula = Surv(time_to_death, status) ~ Sex + PC1 + PC2 + \n",
       "    PC3 + PC4 + PC5 + PC6 + PC7 + PC8 + PC9 + PC10 + UnderlyingPrimaryCauseOfDeath + \n",
       "    AgeAtRecruitment + AgeSquared, data = data)\n",
       "\n",
       "  n= 12676, number of events= 12676 \n",
       "   (425663 observations deleted due to missingness)\n",
       "\n",
       "                                     coef  exp(coef)   se(coef)      z Pr(>|z|)\n",
       "Sex1                            3.182e-02  1.032e+00  1.854e-02  1.717 0.085998\n",
       "PC1                             7.823e-01  2.187e+00  6.055e+00  0.129 0.897195\n",
       "PC2                             8.525e-01  2.345e+00  6.035e+00  0.141 0.887662\n",
       "PC3                             3.000e+00  2.008e+01  6.086e+00  0.493 0.622093\n",
       "PC4                             1.286e+01  3.860e+05  6.072e+00  2.119 0.034132\n",
       "PC5                             1.099e+01  5.937e+04  5.986e+00  1.836 0.066319\n",
       "PC6                             4.902e+00  1.346e+02  6.039e+00  0.812 0.416921\n",
       "PC7                            -7.212e+00  7.374e-04  6.029e+00 -1.196 0.231557\n",
       "PC8                             7.659e+00  2.120e+03  6.090e+00  1.258 0.208493\n",
       "PC9                            -3.984e-01  6.714e-01  6.045e+00 -0.066 0.947451\n",
       "PC10                            1.172e+01  1.233e+05  6.039e+00  1.941 0.052239\n",
       "UnderlyingPrimaryCauseOfDeathB -1.046e-01  9.007e-01  2.288e-01 -0.457 0.647732\n",
       "UnderlyingPrimaryCauseOfDeathC -1.292e-01  8.788e-01  1.111e-01 -1.163 0.244996\n",
       "UnderlyingPrimaryCauseOfDeathD -2.614e-01  7.700e-01  1.458e-01 -1.793 0.072998\n",
       "UnderlyingPrimaryCauseOfDeathE -1.783e-01  8.367e-01  1.477e-01 -1.207 0.227306\n",
       "UnderlyingPrimaryCauseOfDeathF -5.769e-01  5.616e-01  1.486e-01 -3.883 0.000103\n",
       "UnderlyingPrimaryCauseOfDeathG -4.003e-01  6.701e-01  1.212e-01 -3.303 0.000957\n",
       "UnderlyingPrimaryCauseOfDeathI -1.053e-01  9.000e-01  1.123e-01 -0.938 0.348322\n",
       "UnderlyingPrimaryCauseOfDeathJ -3.138e-01  7.307e-01  1.167e-01 -2.689 0.007171\n",
       "UnderlyingPrimaryCauseOfDeathK -1.657e-01  8.473e-01  1.193e-01 -1.388 0.165110\n",
       "UnderlyingPrimaryCauseOfDeathL -6.455e-01  5.244e-01  2.990e-01 -2.159 0.030874\n",
       "UnderlyingPrimaryCauseOfDeathM -7.211e-03  9.928e-01  1.616e-01 -0.045 0.964414\n",
       "UnderlyingPrimaryCauseOfDeathN -3.706e-01  6.903e-01  1.692e-01 -2.190 0.028522\n",
       "UnderlyingPrimaryCauseOfDeathQ  1.104e-01  1.117e+00  2.449e-01  0.451 0.651995\n",
       "UnderlyingPrimaryCauseOfDeathR -8.345e-02  9.199e-01  1.659e-01 -0.503 0.614958\n",
       "UnderlyingPrimaryCauseOfDeathU  2.149e-01  1.240e+00  2.991e-01  0.719 0.472378\n",
       "UnderlyingPrimaryCauseOfDeathV  2.965e-01  1.345e+00  1.781e-01  1.665 0.095881\n",
       "UnderlyingPrimaryCauseOfDeathW -5.168e-02  9.496e-01  1.475e-01 -0.350 0.726102\n",
       "UnderlyingPrimaryCauseOfDeathX  6.644e-02  1.069e+00  1.305e-01  0.509 0.610667\n",
       "UnderlyingPrimaryCauseOfDeathY -7.601e-02  9.268e-01  1.719e-01 -0.442 0.658325\n",
       "AgeAtRecruitment               -4.041e-02  9.604e-01  2.007e-02 -2.013 0.044130\n",
       "AgeSquared                      3.553e-04  1.000e+00  1.727e-04  2.058 0.039600\n",
       "                                  \n",
       "Sex1                           .  \n",
       "PC1                               \n",
       "PC2                               \n",
       "PC3                               \n",
       "PC4                            *  \n",
       "PC5                            .  \n",
       "PC6                               \n",
       "PC7                               \n",
       "PC8                               \n",
       "PC9                               \n",
       "PC10                           .  \n",
       "UnderlyingPrimaryCauseOfDeathB    \n",
       "UnderlyingPrimaryCauseOfDeathC    \n",
       "UnderlyingPrimaryCauseOfDeathD .  \n",
       "UnderlyingPrimaryCauseOfDeathE    \n",
       "UnderlyingPrimaryCauseOfDeathF ***\n",
       "UnderlyingPrimaryCauseOfDeathG ***\n",
       "UnderlyingPrimaryCauseOfDeathI    \n",
       "UnderlyingPrimaryCauseOfDeathJ ** \n",
       "UnderlyingPrimaryCauseOfDeathK    \n",
       "UnderlyingPrimaryCauseOfDeathL *  \n",
       "UnderlyingPrimaryCauseOfDeathM    \n",
       "UnderlyingPrimaryCauseOfDeathN *  \n",
       "UnderlyingPrimaryCauseOfDeathQ    \n",
       "UnderlyingPrimaryCauseOfDeathR    \n",
       "UnderlyingPrimaryCauseOfDeathU    \n",
       "UnderlyingPrimaryCauseOfDeathV .  \n",
       "UnderlyingPrimaryCauseOfDeathW    \n",
       "UnderlyingPrimaryCauseOfDeathX    \n",
       "UnderlyingPrimaryCauseOfDeathY    \n",
       "AgeAtRecruitment               *  \n",
       "AgeSquared                     *  \n",
       "---\n",
       "Signif. codes:  0 ‘***’ 0.001 ‘**’ 0.01 ‘*’ 0.05 ‘.’ 0.1 ‘ ’ 1\n",
       "\n",
       "                               exp(coef) exp(-coef) lower .95 upper .95\n",
       "Sex1                           1.032e+00  9.687e-01 9.955e-01 1.071e+00\n",
       "PC1                            2.187e+00  4.573e-01 1.534e-05 3.118e+05\n",
       "PC2                            2.345e+00  4.264e-01 1.712e-05 3.214e+05\n",
       "PC3                            2.008e+01  4.979e-02 1.325e-04 3.045e+06\n",
       "PC4                            3.860e+05  2.591e-06 2.619e+00 5.690e+10\n",
       "PC5                            5.937e+04  1.684e-05 4.769e-01 7.391e+09\n",
       "PC6                            1.346e+02  7.431e-03 9.744e-04 1.859e+07\n",
       "PC7                            7.374e-04  1.356e+03 5.447e-09 9.983e+01\n",
       "PC8                            2.120e+03  4.716e-04 1.389e-02 3.237e+08\n",
       "PC9                            6.714e-01  1.489e+00 4.804e-06 9.383e+04\n",
       "PC10                           1.233e+05  8.111e-06 8.927e-01 1.703e+10\n",
       "UnderlyingPrimaryCauseOfDeathB 9.007e-01  1.110e+00 5.752e-01 1.411e+00\n",
       "UnderlyingPrimaryCauseOfDeathC 8.788e-01  1.138e+00 7.068e-01 1.093e+00\n",
       "UnderlyingPrimaryCauseOfDeathD 7.700e-01  1.299e+00 5.786e-01 1.025e+00\n",
       "UnderlyingPrimaryCauseOfDeathE 8.367e-01  1.195e+00 6.264e-01 1.118e+00\n",
       "UnderlyingPrimaryCauseOfDeathF 5.616e-01  1.780e+00 4.198e-01 7.515e-01\n",
       "UnderlyingPrimaryCauseOfDeathG 6.701e-01  1.492e+00 5.285e-01 8.498e-01\n",
       "UnderlyingPrimaryCauseOfDeathI 9.000e-01  1.111e+00 7.222e-01 1.122e+00\n",
       "UnderlyingPrimaryCauseOfDeathJ 7.307e-01  1.369e+00 5.813e-01 9.185e-01\n",
       "UnderlyingPrimaryCauseOfDeathK 8.473e-01  1.180e+00 6.706e-01 1.071e+00\n",
       "UnderlyingPrimaryCauseOfDeathL 5.244e-01  1.907e+00 2.918e-01 9.423e-01\n",
       "UnderlyingPrimaryCauseOfDeathM 9.928e-01  1.007e+00 7.233e-01 1.363e+00\n",
       "UnderlyingPrimaryCauseOfDeathN 6.903e-01  1.449e+00 4.955e-01 9.618e-01\n",
       "UnderlyingPrimaryCauseOfDeathQ 1.117e+00  8.954e-01 6.911e-01 1.805e+00\n",
       "UnderlyingPrimaryCauseOfDeathR 9.199e-01  1.087e+00 6.646e-01 1.273e+00\n",
       "UnderlyingPrimaryCauseOfDeathU 1.240e+00  8.066e-01 6.898e-01 2.228e+00\n",
       "UnderlyingPrimaryCauseOfDeathV 1.345e+00  7.434e-01 9.489e-01 1.907e+00\n",
       "UnderlyingPrimaryCauseOfDeathW 9.496e-01  1.053e+00 7.112e-01 1.268e+00\n",
       "UnderlyingPrimaryCauseOfDeathX 1.069e+00  9.357e-01 8.275e-01 1.380e+00\n",
       "UnderlyingPrimaryCauseOfDeathY 9.268e-01  1.079e+00 6.617e-01 1.298e+00\n",
       "AgeAtRecruitment               9.604e-01  1.041e+00 9.233e-01 9.989e-01\n",
       "AgeSquared                     1.000e+00  9.996e-01 1.000e+00 1.001e+00\n",
       "\n",
       "Concordance= 0.532  (se = 0.003 )\n",
       "Rsquare= 0.01   (max possible= 1 )\n",
       "Likelihood ratio test= 133.6  on 32 df,   p=2.265e-14\n",
       "Wald test            = 129.1  on 32 df,   p=1.315e-13\n",
       "Score (logrank) test = 130.1  on 32 df,   p=8.882e-14\n"
      ]
     },
     "metadata": {},
     "output_type": "display_data"
    }
   ],
   "source": [
    "summary(cox2)"
   ]
  },
  {
   "cell_type": "code",
   "execution_count": 26,
   "metadata": {},
   "outputs": [],
   "source": [
    "cox2_fit <- survfit(cox2)\n"
   ]
  },
  {
   "cell_type": "code",
   "execution_count": 27,
   "metadata": {},
   "outputs": [
    {
     "data": {},
     "metadata": {},
     "output_type": "display_data"
    },
    {
     "data": {
      "image/png": "[encoded data removed]",
      "text/plain": [
       "plot without title"
      ]
     },
     "metadata": {},
     "output_type": "display_data"
    }
   ],
   "source": [
    "autoplot(cox2_fit)\n"
   ]
  },
  {
   "cell_type": "code",
   "execution_count": null,
   "metadata": {},
   "outputs": [],
   "source": []
  }
 ],
 "metadata": {
  "kernelspec": {
   "display_name": "R",
   "language": "R",
   "name": "ir"
  },
  "language_info": {
   "codemirror_mode": "r",
   "file_extension": ".r",
   "mimetype": "text/x-r-source",
   "name": "R",
   "pygments_lexer": "r",
   "version": "3.4.0"
  }
 },
 "nbformat": 4,
 "nbformat_minor": 2
}
